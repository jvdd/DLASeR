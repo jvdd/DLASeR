{
 "cells": [
  {
   "cell_type": "markdown",
   "metadata": {
    "jupyter": {
     "outputs_hidden": true
    }
   },
   "source": [
    "\n",
    "# DLASeR framework"
   ]
  },
  {
   "cell_type": "markdown",
   "metadata": {},
   "source": [
    "**Coming soon!**"
   ]
  },
  {
   "cell_type": "markdown",
   "metadata": {
    "jupyter": {
     "outputs_hidden": true
    }
   },
   "source": [
    "\n",
    "# DLASeR+ framework"
   ]
  },
  {
   "cell_type": "markdown",
   "metadata": {},
   "source": [
    "import the code"
   ]
  },
  {
   "cell_type": "code",
   "execution_count": 1,
   "metadata": {},
   "outputs": [
    {
     "name": "stderr",
     "output_type": "stream",
     "text": [
      "Using TensorFlow backend.\n"
     ]
    }
   ],
   "source": [
    "from src import DLASeRPlus\n",
    "from src import Operator"
   ]
  },
  {
   "cell_type": "markdown",
   "metadata": {},
   "source": [
    "The goals\n",
    "\n",
    "**T1**: LA < 5%  \n",
    "**O1**: minimize PL  \n",
    "**S1**: EC == 12.9"
   ]
  },
  {
   "cell_type": "markdown",
   "metadata": {},
   "source": [
    "The hyper parameters"
   ]
  },
  {
   "cell_type": "code",
   "execution_count": 2,
   "metadata": {},
   "outputs": [],
   "source": [
    "from keras.optimizers import RMSprop\n",
    "input_size = 85 # The dimensionality of the input features\n",
    "core_layers = [100,50,25]\n",
    "class_layers = [30,15,5]\n",
    "reg_layers = [30,50,15,5]\n",
    "batch_size = 128\n",
    "optimizer = RMSprop\n",
    "lr = 3e-3"
   ]
  },
  {
   "cell_type": "code",
   "execution_count": 3,
   "metadata": {},
   "outputs": [
    {
     "name": "stdout",
     "output_type": "stream",
     "text": [
      "---------- THRESHOLD GOALS ----------\n",
      "latency < 5\n",
      "---------- SET-POINT GOALS ----------\n",
      "energyconsumption == 12.9\n",
      "--------- OPTIMIZATION GOALS ---------\n",
      "Minimize packetloss\n",
      "\n",
      "\n",
      "Model: \"model_3\"\n",
      "__________________________________________________________________________________________________\n",
      "Layer (type)                    Output Shape         Param #     Connected to                     \n",
      "==================================================================================================\n",
      "main_input (InputLayer)         [(None, 85)]         0                                            \n",
      "__________________________________________________________________________________________________\n",
      "dense (Dense)                   (None, 100)          8600        main_input[0][0]                 \n",
      "__________________________________________________________________________________________________\n",
      "batch_normalization (BatchNorma (None, 100)          400         dense[0][0]                      \n",
      "__________________________________________________________________________________________________\n",
      "dense_1 (Dense)                 (None, 50)           5050        batch_normalization[0][0]        \n",
      "__________________________________________________________________________________________________\n",
      "batch_normalization_1 (BatchNor (None, 50)           200         dense_1[0][0]                    \n",
      "__________________________________________________________________________________________________\n",
      "embedding (Dense)               (None, 25)           1275        batch_normalization_1[0][0]      \n",
      "__________________________________________________________________________________________________\n",
      "dense_5 (Dense)                 (None, 30)           780         embedding[0][0]                  \n",
      "__________________________________________________________________________________________________\n",
      "batch_normalization_4 (BatchNor (None, 30)           120         dense_5[0][0]                    \n",
      "__________________________________________________________________________________________________\n",
      "dense_6 (Dense)                 (None, 50)           1550        batch_normalization_4[0][0]      \n",
      "__________________________________________________________________________________________________\n",
      "dense_2 (Dense)                 (None, 30)           780         embedding[0][0]                  \n",
      "__________________________________________________________________________________________________\n",
      "dense_9 (Dense)                 (None, 30)           780         embedding[0][0]                  \n",
      "__________________________________________________________________________________________________\n",
      "batch_normalization_5 (BatchNor (None, 50)           200         dense_6[0][0]                    \n",
      "__________________________________________________________________________________________________\n",
      "batch_normalization_2 (BatchNor (None, 30)           120         dense_2[0][0]                    \n",
      "__________________________________________________________________________________________________\n",
      "batch_normalization_7 (BatchNor (None, 30)           120         dense_9[0][0]                    \n",
      "__________________________________________________________________________________________________\n",
      "dense_7 (Dense)                 (None, 15)           765         batch_normalization_5[0][0]      \n",
      "__________________________________________________________________________________________________\n",
      "dense_3 (Dense)                 (None, 15)           465         batch_normalization_2[0][0]      \n",
      "__________________________________________________________________________________________________\n",
      "dense_10 (Dense)                (None, 15)           465         batch_normalization_7[0][0]      \n",
      "__________________________________________________________________________________________________\n",
      "batch_normalization_6 (BatchNor (None, 15)           60          dense_7[0][0]                    \n",
      "__________________________________________________________________________________________________\n",
      "batch_normalization_3 (BatchNor (None, 15)           60          dense_3[0][0]                    \n",
      "__________________________________________________________________________________________________\n",
      "batch_normalization_8 (BatchNor (None, 15)           60          dense_10[0][0]                   \n",
      "__________________________________________________________________________________________________\n",
      "dense_8 (Dense)                 (None, 5)            80          batch_normalization_6[0][0]      \n",
      "__________________________________________________________________________________________________\n",
      "dense_4 (Dense)                 (None, 5)            80          batch_normalization_3[0][0]      \n",
      "__________________________________________________________________________________________________\n",
      "dense_11 (Dense)                (None, 5)            80          batch_normalization_8[0][0]      \n",
      "__________________________________________________________________________________________________\n",
      "output_regr_packetloss_opt (Den (None, 1)            6           dense_8[0][0]                    \n",
      "__________________________________________________________________________________________________\n",
      "output_class_latency_thresh5 (D (None, 1)            6           dense_4[0][0]                    \n",
      "__________________________________________________________________________________________________\n",
      "output_class_energyconsumption_ (None, 1)            6           dense_11[0][0]                   \n",
      "==================================================================================================\n",
      "Total params: 22,108\n",
      "Trainable params: 21,438\n",
      "Non-trainable params: 670\n",
      "__________________________________________________________________________________________________\n"
     ]
    }
   ],
   "source": [
    "dlaserp = DLASeRPlus(['packetloss', 'latency', 'energyconsumption'], input_size, core_layers)\n",
    "dlaserp.add_threshold_goal('latency', Operator.Min, 5, class_layers) # Add threshold goal: LA < 5%\n",
    "dlaserp.add_optimization_goal('packetloss', Operator.Min, reg_layers) # Add optimization goal: minimize packet loss\n",
    "dlaserp.add_setpoint_goal('energyconsumption', 12.9, 0.1, class_layers) # Add setpoint goal: EC == 12.9 (with epsilon of 0.1)\n",
    "dlaserp.compile(optimizer=optimizer, lr=lr)\n",
    "dlaserp.print_goals()\n",
    "print('\\n')\n",
    "dlaserp.print_model()"
   ]
  }
 ],
 "metadata": {
  "kernelspec": {
   "display_name": "Python 3",
   "language": "python",
   "name": "python3"
  },
  "language_info": {
   "codemirror_mode": {
    "name": "ipython",
    "version": 3
   },
   "file_extension": ".py",
   "mimetype": "text/x-python",
   "name": "python",
   "nbconvert_exporter": "python",
   "pygments_lexer": "ipython3",
   "version": "3.6.9"
  }
 },
 "nbformat": 4,
 "nbformat_minor": 4
}
